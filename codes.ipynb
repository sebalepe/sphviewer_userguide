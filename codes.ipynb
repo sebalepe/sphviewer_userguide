{
 "cells": [
  {
   "cell_type": "markdown",
   "id": "7adad34f",
   "metadata": {},
   "source": [
    "# Combine Images"
   ]
  },
  {
   "cell_type": "code",
   "execution_count": null,
   "id": "3a34b527",
   "metadata": {},
   "outputs": [],
   "source": [
    "snaps = [data.snaps[i] for i in [10,40,80,150]]\n",
    "r = 'infinity'\n",
    "extent = [-15,15,-15,15]\n",
    "\n",
    "images = []\n",
    "for snap in snaps:\n",
    "    x,y,z = snap.centroid(snap.pos)\n",
    "    qv = snap.quickview(r=r, extent=extent, x=x,y=y,z=z, plot=False, pos=snap.pos[3], mass=snap.mass[3])\n",
    "    images.append(qv.get_image())\n",
    "    \n",
    "names = [10,40,80,150]\n",
    "\n",
    "vmin, vmax = data.vmean(images, 2)\n",
    "\n",
    "colors = ['black', 'purple']\n",
    "m_cmap = snap.cmap_from_list(colors)\n",
    "\n",
    "fig = plt.figure(figsize=(20, 20))\n",
    "gs = gridspec.GridSpec(nrows=1, ncols=4)\n",
    "\n",
    "axs = []\n",
    "for i in range(1):\n",
    "    for u in range(4):\n",
    "        ax=fig.add_subplot(gs[i, u])\n",
    "        axs.append(ax)\n",
    "\n",
    "for i in range(4):\n",
    "    plt.imsave(f'imgs/blend/snap80_{i}.png', images[i], vmin=vmin, vmax=vmax, cmap=m_cmap)\n",
    "    '''r = axs[i].imshow(images[i], vmin=vmin, vmax=vmax, cmap=m_cmap, extent=extent)\n",
    "    cbar = fig.colorbar(r, shrink=0.2, ax=axs[i], spacing='proportional')\n",
    "    cbar.set_label('Disc mass')\n",
    "    axs[i].set_title(f'Snap {names[i]}')\n",
    "\n",
    "plt.suptitle('Part Type 3', y=0.6)'''\n",
    "plt.show()"
   ]
  }
 ],
 "metadata": {
  "kernelspec": {
   "display_name": "Python 3",
   "language": "python",
   "name": "python3"
  },
  "language_info": {
   "codemirror_mode": {
    "name": "ipython",
    "version": 3
   },
   "file_extension": ".py",
   "mimetype": "text/x-python",
   "name": "python",
   "nbconvert_exporter": "python",
   "pygments_lexer": "ipython3",
   "version": "3.6.8"
  }
 },
 "nbformat": 4,
 "nbformat_minor": 5
}
